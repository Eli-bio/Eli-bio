{
  "nbformat": 4,
  "nbformat_minor": 0,
  "metadata": {
    "colab": {
      "provenance": [],
      "authorship_tag": "ABX9TyOlpeZnEvdgDo99GGIpojFq",
      "include_colab_link": true
    },
    "kernelspec": {
      "name": "python3",
      "display_name": "Python 3"
    },
    "language_info": {
      "name": "python"
    }
  },
  "cells": [
    {
      "cell_type": "markdown",
      "metadata": {
        "id": "view-in-github",
        "colab_type": "text"
      },
      "source": [
        "<a href=\"https://colab.research.google.com/github/Eli-bio/Eli-bio/blob/main/Untitledweek01_01.ipynb\" target=\"_parent\"><img src=\"https://colab.research.google.com/assets/colab-badge.svg\" alt=\"Open In Colab\"/></a>"
      ]
    },
    {
      "cell_type": "code",
      "execution_count": null,
      "metadata": {
        "id": "gRsGksN-6B_6"
      },
      "outputs": [],
      "source": [
        "#In this project we will predict the Falcon 9 landing successfully for the first time\n",
        "#in the given dataset.\n",
        "#Request to the Space X API\n",
        "#and cleaning the data"
      ]
    },
    {
      "cell_type": "code",
      "source": [
        "from google.colab import drive\n",
        "drive.mount('/content/drive')"
      ],
      "metadata": {
        "id": "IghhO3PQzncs"
      },
      "execution_count": null,
      "outputs": []
    },
    {
      "cell_type": "markdown",
      "source": [],
      "metadata": {
        "id": "jacra-Ywy3FG"
      }
    },
    {
      "cell_type": "code",
      "source": [],
      "metadata": {
        "id": "Kb98zDK3y3bk"
      },
      "execution_count": null,
      "outputs": []
    },
    {
      "cell_type": "code",
      "source": [
        "import numpy as np\n",
        "import pandas as pd\n",
        "import requests\n",
        "import datetime"
      ],
      "metadata": {
        "id": "WyDaXPVI6riI"
      },
      "execution_count": null,
      "outputs": []
    },
    {
      "cell_type": "code",
      "source": [
        "space_url=\"https://api.spacexdata.com/v4/launches/past\""
      ],
      "metadata": {
        "id": "DAc3d8hq6mf6"
      },
      "execution_count": null,
      "outputs": []
    },
    {
      "cell_type": "code",
      "source": [
        "response = requests.get(space_url)"
      ],
      "metadata": {
        "id": "aF9o2N6h9J8s"
      },
      "execution_count": null,
      "outputs": []
    },
    {
      "cell_type": "code",
      "source": [
        "stacic_jason_url='http://cf-courses-data.s3.us.cloud-object-storage.appdomain.cloud/IBM-DS0321EN-SkillsNetwork/datasets/API_call_spacex_api.json'"
      ],
      "metadata": {
        "id": "R8FOTyNL9R6a"
      },
      "execution_count": null,
      "outputs": []
    },
    {
      "cell_type": "code",
      "source": [
        "response.status_code\n"
      ],
      "metadata": {
        "colab": {
          "base_uri": "https://localhost:8080/"
        },
        "id": "XJyYSdbd-BmZ",
        "outputId": "6ba0b964-ff77-4bc2-8921-56b65e4eebc4"
      },
      "execution_count": null,
      "outputs": [
        {
          "output_type": "execute_result",
          "data": {
            "text/plain": [
              "200"
            ]
          },
          "metadata": {},
          "execution_count": 107
        }
      ]
    },
    {
      "cell_type": "code",
      "source": [
        "data=response.json()"
      ],
      "metadata": {
        "id": "LNcXXZIS-iJU"
      },
      "execution_count": null,
      "outputs": []
    },
    {
      "cell_type": "code",
      "source": [
        "data=pd.json_normalize(data)"
      ],
      "metadata": {
        "id": "sbbNy5jk-zMT"
      },
      "execution_count": null,
      "outputs": []
    },
    {
      "cell_type": "code",
      "source": [
        "data.head(2)"
      ],
      "metadata": {
        "colab": {
          "base_uri": "https://localhost:8080/",
          "height": 335
        },
        "id": "Y-AMAVlz-9-O",
        "outputId": "9c051198-a13f-4b88-9587-b8f80bbe6b5f"
      },
      "execution_count": null,
      "outputs": [
        {
          "output_type": "execute_result",
          "data": {
            "text/plain": [
              "       static_fire_date_utc  static_fire_date_unix    net  window  \\\n",
              "0  2006-03-17T00:00:00.000Z           1.142554e+09  False     0.0   \n",
              "1                      None                    NaN  False     0.0   \n",
              "\n",
              "                     rocket success  \\\n",
              "0  5e9d0d95eda69955f709d1eb   False   \n",
              "1  5e9d0d95eda69955f709d1eb   False   \n",
              "\n",
              "                                            failures  \\\n",
              "0  [{'time': 33, 'altitude': None, 'reason': 'mer...   \n",
              "1  [{'time': 301, 'altitude': 289, 'reason': 'har...   \n",
              "\n",
              "                                             details crew ships  ...  \\\n",
              "0   Engine failure at 33 seconds and loss of vehicle   []    []  ...   \n",
              "1  Successful first stage burn and transition to ...   []    []  ...   \n",
              "\n",
              "  links.reddit.media links.reddit.recovery links.flickr.small  \\\n",
              "0               None                  None                 []   \n",
              "1               None                  None                 []   \n",
              "\n",
              "   links.flickr.original links.presskit  \\\n",
              "0                     []           None   \n",
              "1                     []           None   \n",
              "\n",
              "                                 links.webcast  links.youtube_id  \\\n",
              "0  https://www.youtube.com/watch?v=0a_00nJ_Y88       0a_00nJ_Y88   \n",
              "1  https://www.youtube.com/watch?v=Lk4zQ2wP-Nc       Lk4zQ2wP-Nc   \n",
              "\n",
              "                                       links.article  \\\n",
              "0  https://www.space.com/2196-spacex-inaugural-fa...   \n",
              "1  https://www.space.com/3590-spacex-falcon-1-roc...   \n",
              "\n",
              "                         links.wikipedia  fairings  \n",
              "0  https://en.wikipedia.org/wiki/DemoSat       NaN  \n",
              "1  https://en.wikipedia.org/wiki/DemoSat       NaN  \n",
              "\n",
              "[2 rows x 43 columns]"
            ],
            "text/html": [
              "\n",
              "  <div id=\"df-712a2aeb-5e46-48bf-b183-969b77ee81c8\" class=\"colab-df-container\">\n",
              "    <div>\n",
              "<style scoped>\n",
              "    .dataframe tbody tr th:only-of-type {\n",
              "        vertical-align: middle;\n",
              "    }\n",
              "\n",
              "    .dataframe tbody tr th {\n",
              "        vertical-align: top;\n",
              "    }\n",
              "\n",
              "    .dataframe thead th {\n",
              "        text-align: right;\n",
              "    }\n",
              "</style>\n",
              "<table border=\"1\" class=\"dataframe\">\n",
              "  <thead>\n",
              "    <tr style=\"text-align: right;\">\n",
              "      <th></th>\n",
              "      <th>static_fire_date_utc</th>\n",
              "      <th>static_fire_date_unix</th>\n",
              "      <th>net</th>\n",
              "      <th>window</th>\n",
              "      <th>rocket</th>\n",
              "      <th>success</th>\n",
              "      <th>failures</th>\n",
              "      <th>details</th>\n",
              "      <th>crew</th>\n",
              "      <th>ships</th>\n",
              "      <th>...</th>\n",
              "      <th>links.reddit.media</th>\n",
              "      <th>links.reddit.recovery</th>\n",
              "      <th>links.flickr.small</th>\n",
              "      <th>links.flickr.original</th>\n",
              "      <th>links.presskit</th>\n",
              "      <th>links.webcast</th>\n",
              "      <th>links.youtube_id</th>\n",
              "      <th>links.article</th>\n",
              "      <th>links.wikipedia</th>\n",
              "      <th>fairings</th>\n",
              "    </tr>\n",
              "  </thead>\n",
              "  <tbody>\n",
              "    <tr>\n",
              "      <th>0</th>\n",
              "      <td>2006-03-17T00:00:00.000Z</td>\n",
              "      <td>1.142554e+09</td>\n",
              "      <td>False</td>\n",
              "      <td>0.0</td>\n",
              "      <td>5e9d0d95eda69955f709d1eb</td>\n",
              "      <td>False</td>\n",
              "      <td>[{'time': 33, 'altitude': None, 'reason': 'mer...</td>\n",
              "      <td>Engine failure at 33 seconds and loss of vehicle</td>\n",
              "      <td>[]</td>\n",
              "      <td>[]</td>\n",
              "      <td>...</td>\n",
              "      <td>None</td>\n",
              "      <td>None</td>\n",
              "      <td>[]</td>\n",
              "      <td>[]</td>\n",
              "      <td>None</td>\n",
              "      <td>https://www.youtube.com/watch?v=0a_00nJ_Y88</td>\n",
              "      <td>0a_00nJ_Y88</td>\n",
              "      <td>https://www.space.com/2196-spacex-inaugural-fa...</td>\n",
              "      <td>https://en.wikipedia.org/wiki/DemoSat</td>\n",
              "      <td>NaN</td>\n",
              "    </tr>\n",
              "    <tr>\n",
              "      <th>1</th>\n",
              "      <td>None</td>\n",
              "      <td>NaN</td>\n",
              "      <td>False</td>\n",
              "      <td>0.0</td>\n",
              "      <td>5e9d0d95eda69955f709d1eb</td>\n",
              "      <td>False</td>\n",
              "      <td>[{'time': 301, 'altitude': 289, 'reason': 'har...</td>\n",
              "      <td>Successful first stage burn and transition to ...</td>\n",
              "      <td>[]</td>\n",
              "      <td>[]</td>\n",
              "      <td>...</td>\n",
              "      <td>None</td>\n",
              "      <td>None</td>\n",
              "      <td>[]</td>\n",
              "      <td>[]</td>\n",
              "      <td>None</td>\n",
              "      <td>https://www.youtube.com/watch?v=Lk4zQ2wP-Nc</td>\n",
              "      <td>Lk4zQ2wP-Nc</td>\n",
              "      <td>https://www.space.com/3590-spacex-falcon-1-roc...</td>\n",
              "      <td>https://en.wikipedia.org/wiki/DemoSat</td>\n",
              "      <td>NaN</td>\n",
              "    </tr>\n",
              "  </tbody>\n",
              "</table>\n",
              "<p>2 rows × 43 columns</p>\n",
              "</div>\n",
              "    <div class=\"colab-df-buttons\">\n",
              "\n",
              "  <div class=\"colab-df-container\">\n",
              "    <button class=\"colab-df-convert\" onclick=\"convertToInteractive('df-712a2aeb-5e46-48bf-b183-969b77ee81c8')\"\n",
              "            title=\"Convert this dataframe to an interactive table.\"\n",
              "            style=\"display:none;\">\n",
              "\n",
              "  <svg xmlns=\"http://www.w3.org/2000/svg\" height=\"24px\" viewBox=\"0 -960 960 960\">\n",
              "    <path d=\"M120-120v-720h720v720H120Zm60-500h600v-160H180v160Zm220 220h160v-160H400v160Zm0 220h160v-160H400v160ZM180-400h160v-160H180v160Zm440 0h160v-160H620v160ZM180-180h160v-160H180v160Zm440 0h160v-160H620v160Z\"/>\n",
              "  </svg>\n",
              "    </button>\n",
              "\n",
              "  <style>\n",
              "    .colab-df-container {\n",
              "      display:flex;\n",
              "      gap: 12px;\n",
              "    }\n",
              "\n",
              "    .colab-df-convert {\n",
              "      background-color: #E8F0FE;\n",
              "      border: none;\n",
              "      border-radius: 50%;\n",
              "      cursor: pointer;\n",
              "      display: none;\n",
              "      fill: #1967D2;\n",
              "      height: 32px;\n",
              "      padding: 0 0 0 0;\n",
              "      width: 32px;\n",
              "    }\n",
              "\n",
              "    .colab-df-convert:hover {\n",
              "      background-color: #E2EBFA;\n",
              "      box-shadow: 0px 1px 2px rgba(60, 64, 67, 0.3), 0px 1px 3px 1px rgba(60, 64, 67, 0.15);\n",
              "      fill: #174EA6;\n",
              "    }\n",
              "\n",
              "    .colab-df-buttons div {\n",
              "      margin-bottom: 4px;\n",
              "    }\n",
              "\n",
              "    [theme=dark] .colab-df-convert {\n",
              "      background-color: #3B4455;\n",
              "      fill: #D2E3FC;\n",
              "    }\n",
              "\n",
              "    [theme=dark] .colab-df-convert:hover {\n",
              "      background-color: #434B5C;\n",
              "      box-shadow: 0px 1px 3px 1px rgba(0, 0, 0, 0.15);\n",
              "      filter: drop-shadow(0px 1px 2px rgba(0, 0, 0, 0.3));\n",
              "      fill: #FFFFFF;\n",
              "    }\n",
              "  </style>\n",
              "\n",
              "    <script>\n",
              "      const buttonEl =\n",
              "        document.querySelector('#df-712a2aeb-5e46-48bf-b183-969b77ee81c8 button.colab-df-convert');\n",
              "      buttonEl.style.display =\n",
              "        google.colab.kernel.accessAllowed ? 'block' : 'none';\n",
              "\n",
              "      async function convertToInteractive(key) {\n",
              "        const element = document.querySelector('#df-712a2aeb-5e46-48bf-b183-969b77ee81c8');\n",
              "        const dataTable =\n",
              "          await google.colab.kernel.invokeFunction('convertToInteractive',\n",
              "                                                    [key], {});\n",
              "        if (!dataTable) return;\n",
              "\n",
              "        const docLinkHtml = 'Like what you see? Visit the ' +\n",
              "          '<a target=\"_blank\" href=https://colab.research.google.com/notebooks/data_table.ipynb>data table notebook</a>'\n",
              "          + ' to learn more about interactive tables.';\n",
              "        element.innerHTML = '';\n",
              "        dataTable['output_type'] = 'display_data';\n",
              "        await google.colab.output.renderOutput(dataTable, element);\n",
              "        const docLink = document.createElement('div');\n",
              "        docLink.innerHTML = docLinkHtml;\n",
              "        element.appendChild(docLink);\n",
              "      }\n",
              "    </script>\n",
              "  </div>\n",
              "\n",
              "\n",
              "<div id=\"df-35f1e7d4-aedf-43b4-be81-a867077b5949\">\n",
              "  <button class=\"colab-df-quickchart\" onclick=\"quickchart('df-35f1e7d4-aedf-43b4-be81-a867077b5949')\"\n",
              "            title=\"Suggest charts\"\n",
              "            style=\"display:none;\">\n",
              "\n",
              "<svg xmlns=\"http://www.w3.org/2000/svg\" height=\"24px\"viewBox=\"0 0 24 24\"\n",
              "     width=\"24px\">\n",
              "    <g>\n",
              "        <path d=\"M19 3H5c-1.1 0-2 .9-2 2v14c0 1.1.9 2 2 2h14c1.1 0 2-.9 2-2V5c0-1.1-.9-2-2-2zM9 17H7v-7h2v7zm4 0h-2V7h2v10zm4 0h-2v-4h2v4z\"/>\n",
              "    </g>\n",
              "</svg>\n",
              "  </button>\n",
              "\n",
              "<style>\n",
              "  .colab-df-quickchart {\n",
              "      --bg-color: #E8F0FE;\n",
              "      --fill-color: #1967D2;\n",
              "      --hover-bg-color: #E2EBFA;\n",
              "      --hover-fill-color: #174EA6;\n",
              "      --disabled-fill-color: #AAA;\n",
              "      --disabled-bg-color: #DDD;\n",
              "  }\n",
              "\n",
              "  [theme=dark] .colab-df-quickchart {\n",
              "      --bg-color: #3B4455;\n",
              "      --fill-color: #D2E3FC;\n",
              "      --hover-bg-color: #434B5C;\n",
              "      --hover-fill-color: #FFFFFF;\n",
              "      --disabled-bg-color: #3B4455;\n",
              "      --disabled-fill-color: #666;\n",
              "  }\n",
              "\n",
              "  .colab-df-quickchart {\n",
              "    background-color: var(--bg-color);\n",
              "    border: none;\n",
              "    border-radius: 50%;\n",
              "    cursor: pointer;\n",
              "    display: none;\n",
              "    fill: var(--fill-color);\n",
              "    height: 32px;\n",
              "    padding: 0;\n",
              "    width: 32px;\n",
              "  }\n",
              "\n",
              "  .colab-df-quickchart:hover {\n",
              "    background-color: var(--hover-bg-color);\n",
              "    box-shadow: 0 1px 2px rgba(60, 64, 67, 0.3), 0 1px 3px 1px rgba(60, 64, 67, 0.15);\n",
              "    fill: var(--button-hover-fill-color);\n",
              "  }\n",
              "\n",
              "  .colab-df-quickchart-complete:disabled,\n",
              "  .colab-df-quickchart-complete:disabled:hover {\n",
              "    background-color: var(--disabled-bg-color);\n",
              "    fill: var(--disabled-fill-color);\n",
              "    box-shadow: none;\n",
              "  }\n",
              "\n",
              "  .colab-df-spinner {\n",
              "    border: 2px solid var(--fill-color);\n",
              "    border-color: transparent;\n",
              "    border-bottom-color: var(--fill-color);\n",
              "    animation:\n",
              "      spin 1s steps(1) infinite;\n",
              "  }\n",
              "\n",
              "  @keyframes spin {\n",
              "    0% {\n",
              "      border-color: transparent;\n",
              "      border-bottom-color: var(--fill-color);\n",
              "      border-left-color: var(--fill-color);\n",
              "    }\n",
              "    20% {\n",
              "      border-color: transparent;\n",
              "      border-left-color: var(--fill-color);\n",
              "      border-top-color: var(--fill-color);\n",
              "    }\n",
              "    30% {\n",
              "      border-color: transparent;\n",
              "      border-left-color: var(--fill-color);\n",
              "      border-top-color: var(--fill-color);\n",
              "      border-right-color: var(--fill-color);\n",
              "    }\n",
              "    40% {\n",
              "      border-color: transparent;\n",
              "      border-right-color: var(--fill-color);\n",
              "      border-top-color: var(--fill-color);\n",
              "    }\n",
              "    60% {\n",
              "      border-color: transparent;\n",
              "      border-right-color: var(--fill-color);\n",
              "    }\n",
              "    80% {\n",
              "      border-color: transparent;\n",
              "      border-right-color: var(--fill-color);\n",
              "      border-bottom-color: var(--fill-color);\n",
              "    }\n",
              "    90% {\n",
              "      border-color: transparent;\n",
              "      border-bottom-color: var(--fill-color);\n",
              "    }\n",
              "  }\n",
              "</style>\n",
              "\n",
              "  <script>\n",
              "    async function quickchart(key) {\n",
              "      const quickchartButtonEl =\n",
              "        document.querySelector('#' + key + ' button');\n",
              "      quickchartButtonEl.disabled = true;  // To prevent multiple clicks.\n",
              "      quickchartButtonEl.classList.add('colab-df-spinner');\n",
              "      try {\n",
              "        const charts = await google.colab.kernel.invokeFunction(\n",
              "            'suggestCharts', [key], {});\n",
              "      } catch (error) {\n",
              "        console.error('Error during call to suggestCharts:', error);\n",
              "      }\n",
              "      quickchartButtonEl.classList.remove('colab-df-spinner');\n",
              "      quickchartButtonEl.classList.add('colab-df-quickchart-complete');\n",
              "    }\n",
              "    (() => {\n",
              "      let quickchartButtonEl =\n",
              "        document.querySelector('#df-35f1e7d4-aedf-43b4-be81-a867077b5949 button');\n",
              "      quickchartButtonEl.style.display =\n",
              "        google.colab.kernel.accessAllowed ? 'block' : 'none';\n",
              "    })();\n",
              "  </script>\n",
              "</div>\n",
              "\n",
              "    </div>\n",
              "  </div>\n"
            ],
            "application/vnd.google.colaboratory.intrinsic+json": {
              "type": "dataframe",
              "variable_name": "data"
            }
          },
          "metadata": {},
          "execution_count": 110
        }
      ]
    },
    {
      "cell_type": "code",
      "source": [
        "data.info()"
      ],
      "metadata": {
        "colab": {
          "base_uri": "https://localhost:8080/"
        },
        "id": "JeRl2k8g_Zib",
        "outputId": "4b54eda2-1c14-4afb-836f-853333c67844"
      },
      "execution_count": null,
      "outputs": [
        {
          "output_type": "stream",
          "name": "stdout",
          "text": [
            "<class 'pandas.core.frame.DataFrame'>\n",
            "RangeIndex: 187 entries, 0 to 186\n",
            "Data columns (total 43 columns):\n",
            " #   Column                     Non-Null Count  Dtype  \n",
            "---  ------                     --------------  -----  \n",
            " 0   static_fire_date_utc       121 non-null    object \n",
            " 1   static_fire_date_unix      121 non-null    float64\n",
            " 2   net                        187 non-null    bool   \n",
            " 3   window                     117 non-null    float64\n",
            " 4   rocket                     187 non-null    object \n",
            " 5   success                    186 non-null    object \n",
            " 6   failures                   187 non-null    object \n",
            " 7   details                    134 non-null    object \n",
            " 8   crew                       187 non-null    object \n",
            " 9   ships                      187 non-null    object \n",
            " 10  capsules                   187 non-null    object \n",
            " 11  payloads                   187 non-null    object \n",
            " 12  launchpad                  187 non-null    object \n",
            " 13  flight_number              187 non-null    int64  \n",
            " 14  name                       187 non-null    object \n",
            " 15  date_utc                   187 non-null    object \n",
            " 16  date_unix                  187 non-null    int64  \n",
            " 17  date_local                 187 non-null    object \n",
            " 18  date_precision             187 non-null    object \n",
            " 19  upcoming                   187 non-null    bool   \n",
            " 20  cores                      187 non-null    object \n",
            " 21  auto_update                187 non-null    bool   \n",
            " 22  tbd                        187 non-null    bool   \n",
            " 23  launch_library_id          69 non-null     object \n",
            " 24  id                         187 non-null    object \n",
            " 25  fairings.reused            93 non-null     object \n",
            " 26  fairings.recovery_attempt  107 non-null    object \n",
            " 27  fairings.recovered         85 non-null     object \n",
            " 28  fairings.ships             152 non-null    object \n",
            " 29  links.patch.small          187 non-null    object \n",
            " 30  links.patch.large          187 non-null    object \n",
            " 31  links.reddit.campaign      148 non-null    object \n",
            " 32  links.reddit.launch        164 non-null    object \n",
            " 33  links.reddit.media         88 non-null     object \n",
            " 34  links.reddit.recovery      93 non-null     object \n",
            " 35  links.flickr.small         187 non-null    object \n",
            " 36  links.flickr.original      187 non-null    object \n",
            " 37  links.presskit             91 non-null     object \n",
            " 38  links.webcast              185 non-null    object \n",
            " 39  links.youtube_id           185 non-null    object \n",
            " 40  links.article              142 non-null    object \n",
            " 41  links.wikipedia            155 non-null    object \n",
            " 42  fairings                   0 non-null      float64\n",
            "dtypes: bool(4), float64(3), int64(2), object(34)\n",
            "memory usage: 57.8+ KB\n"
          ]
        }
      ]
    },
    {
      "cell_type": "code",
      "source": [
        "data = data[['rocket', 'payloads', 'launchpad', 'cores', 'flight_number', 'date_utc', 'success']]"
      ],
      "metadata": {
        "id": "5VwgDuuH_i_W"
      },
      "execution_count": null,
      "outputs": []
    },
    {
      "cell_type": "code",
      "source": [
        "data=data[data['cores'].map(len)==1]\n",
        "data=data[data['payloads'].map(len)==1]"
      ],
      "metadata": {
        "id": "Hx2_33aYBBf9"
      },
      "execution_count": null,
      "outputs": []
    },
    {
      "cell_type": "code",
      "source": [
        "data['cores']=data['cores'].map(lambda x: x[0])\n",
        "data['payloads']=data['payloads'].map(lambda x: x[0])"
      ],
      "metadata": {
        "id": "9rRX6qbIBLTy"
      },
      "execution_count": null,
      "outputs": []
    },
    {
      "cell_type": "code",
      "source": [
        "data['date']=pd.to_datetime(data['date_utc']).dt.date\n",
        "data['time']=pd.to_datetime(data['date_utc']).dt.time"
      ],
      "metadata": {
        "id": "BIfZLu54CB8C"
      },
      "execution_count": null,
      "outputs": []
    },
    {
      "cell_type": "code",
      "source": [
        "data=data[data['date']<=datetime.date(2020,11,13)]"
      ],
      "metadata": {
        "id": "7SOccqTRCLVV"
      },
      "execution_count": null,
      "outputs": []
    },
    {
      "cell_type": "code",
      "source": [
        "BoosterVersion=[]\n",
        "payloadMass=[]\n",
        "launchpad=[]\n",
        "Orbit=[]\n",
        "LaunchSite=[]\n",
        "Outcome=[]\n",
        "Flights=[]\n",
        "GridFins=[]\n",
        "Reused=[]\n",
        "Legs=[]\n",
        "landingpad=[]\n",
        "Block=[]\n",
        "ReusedCount=[]\n",
        "Serial=[]\n",
        "Longitude=[]\n",
        "Latitude=[]\n"
      ],
      "metadata": {
        "id": "AgYfLxI_CfCI"
      },
      "execution_count": null,
      "outputs": []
    },
    {
      "cell_type": "code",
      "source": [
        "def getBoosterVersion(data):\n",
        "    for x in data['rocket']:\n",
        "        response = requests.get(\"https://api.spacexdata.com/v4/rockets/\"+str(x)).json()\n",
        "        BoosterVersion.append(response['name'])\n"
      ],
      "metadata": {
        "id": "cKMw1awSKabM"
      },
      "execution_count": null,
      "outputs": []
    },
    {
      "cell_type": "code",
      "source": [
        "getBoosterVersion(data)"
      ],
      "metadata": {
        "id": "hlp7ZcedMZpM"
      },
      "execution_count": null,
      "outputs": []
    },
    {
      "cell_type": "code",
      "source": [
        "print(BoosterVersion)"
      ],
      "metadata": {
        "colab": {
          "base_uri": "https://localhost:8080/"
        },
        "id": "oIS_bkS7M5Eq",
        "outputId": "e1a04fd6-adf5-4c30-c4c0-1ea38df98969"
      },
      "execution_count": null,
      "outputs": [
        {
          "output_type": "stream",
          "name": "stdout",
          "text": [
            "['Falcon 1', 'Falcon 1', 'Falcon 1', 'Falcon 1', 'Falcon 9', 'Falcon 9', 'Falcon 9', 'Falcon 9', 'Falcon 9', 'Falcon 9', 'Falcon 9', 'Falcon 9', 'Falcon 9', 'Falcon 9', 'Falcon 9', 'Falcon 9', 'Falcon 9', 'Falcon 9', 'Falcon 9', 'Falcon 9', 'Falcon 9', 'Falcon 9', 'Falcon 9', 'Falcon 9', 'Falcon 9', 'Falcon 9', 'Falcon 9', 'Falcon 9', 'Falcon 9', 'Falcon 9', 'Falcon 9', 'Falcon 9', 'Falcon 9', 'Falcon 9', 'Falcon 9', 'Falcon 9', 'Falcon 9', 'Falcon 9', 'Falcon 9', 'Falcon 9', 'Falcon 9', 'Falcon 9', 'Falcon 9', 'Falcon 9', 'Falcon 9', 'Falcon 9', 'Falcon 9', 'Falcon 9', 'Falcon 9', 'Falcon 9', 'Falcon 9', 'Falcon 9', 'Falcon 9', 'Falcon 9', 'Falcon 9', 'Falcon 9', 'Falcon 9', 'Falcon 9', 'Falcon 9', 'Falcon 9', 'Falcon 9', 'Falcon 9', 'Falcon 9', 'Falcon 9', 'Falcon 9', 'Falcon 9', 'Falcon 9', 'Falcon 9', 'Falcon 9', 'Falcon 9', 'Falcon 9', 'Falcon 9', 'Falcon 9', 'Falcon 9', 'Falcon 9', 'Falcon 9', 'Falcon 9', 'Falcon 9', 'Falcon 9', 'Falcon 9', 'Falcon 9', 'Falcon 9', 'Falcon 9', 'Falcon 9', 'Falcon 9', 'Falcon 9', 'Falcon 9', 'Falcon 9', 'Falcon 9', 'Falcon 9', 'Falcon 9', 'Falcon 9', 'Falcon 9', 'Falcon 9']\n"
          ]
        }
      ]
    },
    {
      "cell_type": "code",
      "source": [
        "def getpayloadData(data):\n",
        "    for load in data['payloads']:\n",
        "        response = requests.get(\"https://api.spacexdata.com/v4/payloads/\"+load).json()\n",
        "        payloadMass.append(response['mass_kg'])\n",
        "        Orbit.append(response['orbit'])"
      ],
      "metadata": {
        "id": "vs2dlgmP-qm2"
      },
      "execution_count": null,
      "outputs": []
    },
    {
      "cell_type": "code",
      "source": [
        "getpayloadData(data)"
      ],
      "metadata": {
        "id": "OazK7NUn-WtN"
      },
      "execution_count": null,
      "outputs": []
    },
    {
      "cell_type": "code",
      "source": [
        "payloadMass[0:4]\n"
      ],
      "metadata": {
        "colab": {
          "base_uri": "https://localhost:8080/"
        },
        "id": "Dg5WnS0j_T4s",
        "outputId": "7ac69780-180c-448c-8485-ef8130fbce45"
      },
      "execution_count": null,
      "outputs": [
        {
          "output_type": "execute_result",
          "data": {
            "text/plain": [
              "[20, None, 165, 200]"
            ]
          },
          "metadata": {},
          "execution_count": 123
        }
      ]
    },
    {
      "cell_type": "code",
      "source": [
        "def getlaunchpadData(data):\n",
        "  for x in data['launchpad']:\n",
        "    response = requests.get(\"https://api.spacexdata.com/v4/launchpads/\"+str(data['launchpad'][0])).json()\n",
        "    LaunchSite.append(response['name'])\n",
        "    Longitude.append(response['longitude'])\n",
        "    Latitude.append(response['latitude'])"
      ],
      "metadata": {
        "id": "VXPfJszi_1qx"
      },
      "execution_count": null,
      "outputs": []
    },
    {
      "cell_type": "code",
      "source": [
        "getlaunchpadData(data)"
      ],
      "metadata": {
        "id": "b4fNI3V3AhFJ"
      },
      "execution_count": null,
      "outputs": []
    },
    {
      "cell_type": "code",
      "source": [
        "def getcoredata(data):\n",
        "    for core in data['cores']:\n",
        "        if core['core']!=None:\n",
        "           response = requests.get(\"https://api.spacexdata.com/v4/cores/\"+core['core']).json()\n",
        "           Block.append(response['block'])\n",
        "           ReusedCount.append(response['reuse_count'])\n",
        "           Serial.append(response['serial'])\n",
        "           Outcome.append(str(core['landing_success'])+' '+str(core['landing_type'])) # Fixed typo here: 'landind_type' to 'landing_type'\n",
        "           Flights.append(core['flight'])\n",
        "           GridFins.append(core['gridfins'])\n",
        "           Reused.append(core['reused'])\n",
        "           Legs.append(core['legs'])\n",
        "           landingpad.append(core['landpad'])\n",
        "        else:\n",
        "           Block.append(None)\n",
        "           ReusedCount.append(None)\n",
        "           Serial.append(None)\n",
        "        Outcome.append(None)\n",
        "        Flights.append(None)\n",
        "        GridFins.append(None)\n",
        "        Reused.append(None)\n",
        "        Legs.append(None)\n",
        "        landingpad.append(None)"
      ],
      "metadata": {
        "id": "G71fLZSoE9rD"
      },
      "execution_count": null,
      "outputs": []
    },
    {
      "cell_type": "code",
      "source": [
        "getcoredata(data)"
      ],
      "metadata": {
        "id": "V-WWVNawIIZv"
      },
      "execution_count": null,
      "outputs": []
    },
    {
      "cell_type": "code",
      "source": [
        "print(Outcome[0:6])"
      ],
      "metadata": {
        "id": "dAUId2vOGRpj",
        "colab": {
          "base_uri": "https://localhost:8080/"
        },
        "outputId": "ca7a227a-a0f6-4064-8919-bdb3defc44ec"
      },
      "execution_count": null,
      "outputs": [
        {
          "output_type": "stream",
          "name": "stdout",
          "text": [
            "['None None', None, 'None None', None, 'None None', None]\n"
          ]
        }
      ]
    },
    {
      "cell_type": "code",
      "source": [
        "launch_dict= {'FlightNumber':list(data['flight_number']),\n",
        "'Date': list(data['date']),\n",
        "'BoosterVersion': BoosterVersion,\n",
        "'payloadMass':payloadMass,\n",
        "'Orbit': Orbit,\n",
        "'LaunchSite':LaunchSite,\n",
        "'Outcome': Outcome,\n",
        "'Flights':Flights,\n",
        "'GridFins':GridFins,\n",
        "'landingpad':landingpad,\n",
        "'ReusedCount':ReusedCount,\n",
        "'Reused':Reused,\n",
        "'Legs':Legs,\n",
        "'Block':Block,\n",
        "'Serial':Serial,\n",
        "'Longitude':Longitude,\n",
        "'Latitude':Latitude}\n",
        "\n"
      ],
      "metadata": {
        "id": "JQq7Jb51IW7u"
      },
      "execution_count": null,
      "outputs": []
    },
    {
      "cell_type": "code",
      "source": [
        "desired_lenght = 94\n"
      ],
      "metadata": {
        "id": "x2RIbMa3OR0z"
      },
      "execution_count": null,
      "outputs": []
    },
    {
      "cell_type": "code",
      "source": [
        "import pandas as pd"
      ],
      "metadata": {
        "id": "lLTqycxLR6Dx"
      },
      "execution_count": null,
      "outputs": []
    },
    {
      "cell_type": "code",
      "source": [
        "launch_dict= {'FlightNumber':list(data['flight_number']),\n",
        "'Date': list(data['date']),\n",
        "'BoosterVersion': BoosterVersion,\n",
        "'payloadMass':payloadMass,\n",
        "'Orbit': Orbit,\n",
        "'LaunchSite':LaunchSite,\n",
        "'Outcome': Outcome,\n",
        "'Flights':Flights,\n",
        "'GridFins':GridFins,\n",
        "'landingpad':landingpad,\n",
        "'ReusedCount':ReusedCount,\n",
        "'Reused':Reused,\n",
        "'Legs':Legs,\n",
        "'Block':Block,\n",
        "'Serial':Serial,\n",
        "'Longitude':Longitude,\n",
        "'Latitude':Latitude}"
      ],
      "metadata": {
        "id": "BPuuNAXhQkEr"
      },
      "execution_count": null,
      "outputs": []
    },
    {
      "cell_type": "code",
      "source": [
        "\n",
        "def ensure_equal_length(df,desired_lenght=94):\n",
        "  launch_dict={col:list(df[col])\n",
        "  for col in df.columns}\n",
        "  for key in launch_dict:\n",
        "         current_length=len(launch_dict[key])\n",
        "         if current_length < desired_lenght:\n",
        "              launch_dict[key]=launch_dict[key]+[None]*(desired_lenght-current_length) # Fixed typo: current_lenghth -> current_length\n",
        "         elif current_length>desired_lenght: # Fixed indentation\n",
        "              launch_dict[key]=launch_dict[key][:desired_lenght] # Trim list if it is too long\n",
        "  return pd.DataFrame(launch_dict)\n",
        "\n",
        "# Apply the function to your DataFrame 'data' (assuming it exists)\n",
        "data2 = ensure_equal_length(data)\n",
        "data2"
      ],
      "metadata": {
        "colab": {
          "base_uri": "https://localhost:8080/",
          "height": 790
        },
        "id": "GHhFLYHtXu2A",
        "outputId": "8878afa5-25cd-4649-f53c-1f8a5526a9f9"
      },
      "execution_count": null,
      "outputs": [
        {
          "output_type": "execute_result",
          "data": {
            "text/plain": [
              "                      rocket                  payloads  \\\n",
              "0   5e9d0d95eda69955f709d1eb  5eb0e4b5b6c3bb0006eeb1e1   \n",
              "1   5e9d0d95eda69955f709d1eb  5eb0e4b6b6c3bb0006eeb1e2   \n",
              "2   5e9d0d95eda69955f709d1eb  5eb0e4b7b6c3bb0006eeb1e5   \n",
              "3   5e9d0d95eda69955f709d1eb  5eb0e4b7b6c3bb0006eeb1e6   \n",
              "4   5e9d0d95eda69973a809d1ec  5eb0e4b7b6c3bb0006eeb1e7   \n",
              "..                       ...                       ...   \n",
              "89  5e9d0d95eda69973a809d1ec  5ef6a4600059c33cee4a829e   \n",
              "90  5e9d0d95eda69973a809d1ec  5ef6a48e0059c33cee4a829f   \n",
              "91  5e9d0d95eda69973a809d1ec  5ef6a4d50059c33cee4a82a1   \n",
              "92  5e9d0d95eda69973a809d1ec  5ef6a4ea0059c33cee4a82a2   \n",
              "93  5e9d0d95eda69973a809d1ec  5eb0e4d2b6c3bb0006eeb25e   \n",
              "\n",
              "                   launchpad  \\\n",
              "0   5e9e4502f5090995de566f86   \n",
              "1   5e9e4502f5090995de566f86   \n",
              "2   5e9e4502f5090995de566f86   \n",
              "3   5e9e4502f5090995de566f86   \n",
              "4   5e9e4501f509094ba4566f84   \n",
              "..                       ...   \n",
              "89  5e9e4502f509094188566f88   \n",
              "90  5e9e4502f509094188566f88   \n",
              "91  5e9e4502f509094188566f88   \n",
              "92  5e9e4501f509094ba4566f84   \n",
              "93  5e9e4501f509094ba4566f84   \n",
              "\n",
              "                                                cores  flight_number  \\\n",
              "0   {'core': '5e9e289df35918033d3b2623', 'flight':...              1   \n",
              "1   {'core': '5e9e289ef35918416a3b2624', 'flight':...              2   \n",
              "2   {'core': '5e9e289ef3591855dc3b2626', 'flight':...              4   \n",
              "3   {'core': '5e9e289ef359184f103b2627', 'flight':...              5   \n",
              "4   {'core': '5e9e289ef359185f2b3b2628', 'flight':...              6   \n",
              "..                                                ...            ...   \n",
              "89  {'core': '5ef670f10059c33cee4a826c', 'flight':...            102   \n",
              "90  {'core': '5e9e28a7f3591817f23b2663', 'flight':...            103   \n",
              "91  {'core': '5e9e28a6f35918c0803b265c', 'flight':...            104   \n",
              "92  {'core': '5ef670f10059c33cee4a826c', 'flight':...            105   \n",
              "93  {'core': '5f57c5440622a633027900a0', 'flight':...            106   \n",
              "\n",
              "                    date_utc  success        date      time  \n",
              "0   2006-03-24T22:30:00.000Z    False  2006-03-24  22:30:00  \n",
              "1   2007-03-21T01:10:00.000Z    False  2007-03-21  01:10:00  \n",
              "2   2008-09-28T23:15:00.000Z     True  2008-09-28  23:15:00  \n",
              "3   2009-07-13T03:35:00.000Z     True  2009-07-13  03:35:00  \n",
              "4   2010-06-04T18:45:00.000Z     True  2010-06-04  18:45:00  \n",
              "..                       ...      ...         ...       ...  \n",
              "89  2020-09-03T12:46:00.000Z     True  2020-09-03  12:46:00  \n",
              "90  2020-10-06T11:29:00.000Z     True  2020-10-06  11:29:00  \n",
              "91  2020-10-18T12:25:00.000Z     True  2020-10-18  12:25:00  \n",
              "92  2020-10-24T15:31:00.000Z     True  2020-10-24  15:31:00  \n",
              "93  2020-11-05T23:24:00.000Z     True  2020-11-05  23:24:00  \n",
              "\n",
              "[94 rows x 9 columns]"
            ],
            "text/html": [
              "\n",
              "  <div id=\"df-94ceec08-1bfb-4293-8994-a24632126c6c\" class=\"colab-df-container\">\n",
              "    <div>\n",
              "<style scoped>\n",
              "    .dataframe tbody tr th:only-of-type {\n",
              "        vertical-align: middle;\n",
              "    }\n",
              "\n",
              "    .dataframe tbody tr th {\n",
              "        vertical-align: top;\n",
              "    }\n",
              "\n",
              "    .dataframe thead th {\n",
              "        text-align: right;\n",
              "    }\n",
              "</style>\n",
              "<table border=\"1\" class=\"dataframe\">\n",
              "  <thead>\n",
              "    <tr style=\"text-align: right;\">\n",
              "      <th></th>\n",
              "      <th>rocket</th>\n",
              "      <th>payloads</th>\n",
              "      <th>launchpad</th>\n",
              "      <th>cores</th>\n",
              "      <th>flight_number</th>\n",
              "      <th>date_utc</th>\n",
              "      <th>success</th>\n",
              "      <th>date</th>\n",
              "      <th>time</th>\n",
              "    </tr>\n",
              "  </thead>\n",
              "  <tbody>\n",
              "    <tr>\n",
              "      <th>0</th>\n",
              "      <td>5e9d0d95eda69955f709d1eb</td>\n",
              "      <td>5eb0e4b5b6c3bb0006eeb1e1</td>\n",
              "      <td>5e9e4502f5090995de566f86</td>\n",
              "      <td>{'core': '5e9e289df35918033d3b2623', 'flight':...</td>\n",
              "      <td>1</td>\n",
              "      <td>2006-03-24T22:30:00.000Z</td>\n",
              "      <td>False</td>\n",
              "      <td>2006-03-24</td>\n",
              "      <td>22:30:00</td>\n",
              "    </tr>\n",
              "    <tr>\n",
              "      <th>1</th>\n",
              "      <td>5e9d0d95eda69955f709d1eb</td>\n",
              "      <td>5eb0e4b6b6c3bb0006eeb1e2</td>\n",
              "      <td>5e9e4502f5090995de566f86</td>\n",
              "      <td>{'core': '5e9e289ef35918416a3b2624', 'flight':...</td>\n",
              "      <td>2</td>\n",
              "      <td>2007-03-21T01:10:00.000Z</td>\n",
              "      <td>False</td>\n",
              "      <td>2007-03-21</td>\n",
              "      <td>01:10:00</td>\n",
              "    </tr>\n",
              "    <tr>\n",
              "      <th>2</th>\n",
              "      <td>5e9d0d95eda69955f709d1eb</td>\n",
              "      <td>5eb0e4b7b6c3bb0006eeb1e5</td>\n",
              "      <td>5e9e4502f5090995de566f86</td>\n",
              "      <td>{'core': '5e9e289ef3591855dc3b2626', 'flight':...</td>\n",
              "      <td>4</td>\n",
              "      <td>2008-09-28T23:15:00.000Z</td>\n",
              "      <td>True</td>\n",
              "      <td>2008-09-28</td>\n",
              "      <td>23:15:00</td>\n",
              "    </tr>\n",
              "    <tr>\n",
              "      <th>3</th>\n",
              "      <td>5e9d0d95eda69955f709d1eb</td>\n",
              "      <td>5eb0e4b7b6c3bb0006eeb1e6</td>\n",
              "      <td>5e9e4502f5090995de566f86</td>\n",
              "      <td>{'core': '5e9e289ef359184f103b2627', 'flight':...</td>\n",
              "      <td>5</td>\n",
              "      <td>2009-07-13T03:35:00.000Z</td>\n",
              "      <td>True</td>\n",
              "      <td>2009-07-13</td>\n",
              "      <td>03:35:00</td>\n",
              "    </tr>\n",
              "    <tr>\n",
              "      <th>4</th>\n",
              "      <td>5e9d0d95eda69973a809d1ec</td>\n",
              "      <td>5eb0e4b7b6c3bb0006eeb1e7</td>\n",
              "      <td>5e9e4501f509094ba4566f84</td>\n",
              "      <td>{'core': '5e9e289ef359185f2b3b2628', 'flight':...</td>\n",
              "      <td>6</td>\n",
              "      <td>2010-06-04T18:45:00.000Z</td>\n",
              "      <td>True</td>\n",
              "      <td>2010-06-04</td>\n",
              "      <td>18:45:00</td>\n",
              "    </tr>\n",
              "    <tr>\n",
              "      <th>...</th>\n",
              "      <td>...</td>\n",
              "      <td>...</td>\n",
              "      <td>...</td>\n",
              "      <td>...</td>\n",
              "      <td>...</td>\n",
              "      <td>...</td>\n",
              "      <td>...</td>\n",
              "      <td>...</td>\n",
              "      <td>...</td>\n",
              "    </tr>\n",
              "    <tr>\n",
              "      <th>89</th>\n",
              "      <td>5e9d0d95eda69973a809d1ec</td>\n",
              "      <td>5ef6a4600059c33cee4a829e</td>\n",
              "      <td>5e9e4502f509094188566f88</td>\n",
              "      <td>{'core': '5ef670f10059c33cee4a826c', 'flight':...</td>\n",
              "      <td>102</td>\n",
              "      <td>2020-09-03T12:46:00.000Z</td>\n",
              "      <td>True</td>\n",
              "      <td>2020-09-03</td>\n",
              "      <td>12:46:00</td>\n",
              "    </tr>\n",
              "    <tr>\n",
              "      <th>90</th>\n",
              "      <td>5e9d0d95eda69973a809d1ec</td>\n",
              "      <td>5ef6a48e0059c33cee4a829f</td>\n",
              "      <td>5e9e4502f509094188566f88</td>\n",
              "      <td>{'core': '5e9e28a7f3591817f23b2663', 'flight':...</td>\n",
              "      <td>103</td>\n",
              "      <td>2020-10-06T11:29:00.000Z</td>\n",
              "      <td>True</td>\n",
              "      <td>2020-10-06</td>\n",
              "      <td>11:29:00</td>\n",
              "    </tr>\n",
              "    <tr>\n",
              "      <th>91</th>\n",
              "      <td>5e9d0d95eda69973a809d1ec</td>\n",
              "      <td>5ef6a4d50059c33cee4a82a1</td>\n",
              "      <td>5e9e4502f509094188566f88</td>\n",
              "      <td>{'core': '5e9e28a6f35918c0803b265c', 'flight':...</td>\n",
              "      <td>104</td>\n",
              "      <td>2020-10-18T12:25:00.000Z</td>\n",
              "      <td>True</td>\n",
              "      <td>2020-10-18</td>\n",
              "      <td>12:25:00</td>\n",
              "    </tr>\n",
              "    <tr>\n",
              "      <th>92</th>\n",
              "      <td>5e9d0d95eda69973a809d1ec</td>\n",
              "      <td>5ef6a4ea0059c33cee4a82a2</td>\n",
              "      <td>5e9e4501f509094ba4566f84</td>\n",
              "      <td>{'core': '5ef670f10059c33cee4a826c', 'flight':...</td>\n",
              "      <td>105</td>\n",
              "      <td>2020-10-24T15:31:00.000Z</td>\n",
              "      <td>True</td>\n",
              "      <td>2020-10-24</td>\n",
              "      <td>15:31:00</td>\n",
              "    </tr>\n",
              "    <tr>\n",
              "      <th>93</th>\n",
              "      <td>5e9d0d95eda69973a809d1ec</td>\n",
              "      <td>5eb0e4d2b6c3bb0006eeb25e</td>\n",
              "      <td>5e9e4501f509094ba4566f84</td>\n",
              "      <td>{'core': '5f57c5440622a633027900a0', 'flight':...</td>\n",
              "      <td>106</td>\n",
              "      <td>2020-11-05T23:24:00.000Z</td>\n",
              "      <td>True</td>\n",
              "      <td>2020-11-05</td>\n",
              "      <td>23:24:00</td>\n",
              "    </tr>\n",
              "  </tbody>\n",
              "</table>\n",
              "<p>94 rows × 9 columns</p>\n",
              "</div>\n",
              "    <div class=\"colab-df-buttons\">\n",
              "\n",
              "  <div class=\"colab-df-container\">\n",
              "    <button class=\"colab-df-convert\" onclick=\"convertToInteractive('df-94ceec08-1bfb-4293-8994-a24632126c6c')\"\n",
              "            title=\"Convert this dataframe to an interactive table.\"\n",
              "            style=\"display:none;\">\n",
              "\n",
              "  <svg xmlns=\"http://www.w3.org/2000/svg\" height=\"24px\" viewBox=\"0 -960 960 960\">\n",
              "    <path d=\"M120-120v-720h720v720H120Zm60-500h600v-160H180v160Zm220 220h160v-160H400v160Zm0 220h160v-160H400v160ZM180-400h160v-160H180v160Zm440 0h160v-160H620v160ZM180-180h160v-160H180v160Zm440 0h160v-160H620v160Z\"/>\n",
              "  </svg>\n",
              "    </button>\n",
              "\n",
              "  <style>\n",
              "    .colab-df-container {\n",
              "      display:flex;\n",
              "      gap: 12px;\n",
              "    }\n",
              "\n",
              "    .colab-df-convert {\n",
              "      background-color: #E8F0FE;\n",
              "      border: none;\n",
              "      border-radius: 50%;\n",
              "      cursor: pointer;\n",
              "      display: none;\n",
              "      fill: #1967D2;\n",
              "      height: 32px;\n",
              "      padding: 0 0 0 0;\n",
              "      width: 32px;\n",
              "    }\n",
              "\n",
              "    .colab-df-convert:hover {\n",
              "      background-color: #E2EBFA;\n",
              "      box-shadow: 0px 1px 2px rgba(60, 64, 67, 0.3), 0px 1px 3px 1px rgba(60, 64, 67, 0.15);\n",
              "      fill: #174EA6;\n",
              "    }\n",
              "\n",
              "    .colab-df-buttons div {\n",
              "      margin-bottom: 4px;\n",
              "    }\n",
              "\n",
              "    [theme=dark] .colab-df-convert {\n",
              "      background-color: #3B4455;\n",
              "      fill: #D2E3FC;\n",
              "    }\n",
              "\n",
              "    [theme=dark] .colab-df-convert:hover {\n",
              "      background-color: #434B5C;\n",
              "      box-shadow: 0px 1px 3px 1px rgba(0, 0, 0, 0.15);\n",
              "      filter: drop-shadow(0px 1px 2px rgba(0, 0, 0, 0.3));\n",
              "      fill: #FFFFFF;\n",
              "    }\n",
              "  </style>\n",
              "\n",
              "    <script>\n",
              "      const buttonEl =\n",
              "        document.querySelector('#df-94ceec08-1bfb-4293-8994-a24632126c6c button.colab-df-convert');\n",
              "      buttonEl.style.display =\n",
              "        google.colab.kernel.accessAllowed ? 'block' : 'none';\n",
              "\n",
              "      async function convertToInteractive(key) {\n",
              "        const element = document.querySelector('#df-94ceec08-1bfb-4293-8994-a24632126c6c');\n",
              "        const dataTable =\n",
              "          await google.colab.kernel.invokeFunction('convertToInteractive',\n",
              "                                                    [key], {});\n",
              "        if (!dataTable) return;\n",
              "\n",
              "        const docLinkHtml = 'Like what you see? Visit the ' +\n",
              "          '<a target=\"_blank\" href=https://colab.research.google.com/notebooks/data_table.ipynb>data table notebook</a>'\n",
              "          + ' to learn more about interactive tables.';\n",
              "        element.innerHTML = '';\n",
              "        dataTable['output_type'] = 'display_data';\n",
              "        await google.colab.output.renderOutput(dataTable, element);\n",
              "        const docLink = document.createElement('div');\n",
              "        docLink.innerHTML = docLinkHtml;\n",
              "        element.appendChild(docLink);\n",
              "      }\n",
              "    </script>\n",
              "  </div>\n",
              "\n",
              "\n",
              "<div id=\"df-15965086-3a9a-4a10-bf11-b6971967697e\">\n",
              "  <button class=\"colab-df-quickchart\" onclick=\"quickchart('df-15965086-3a9a-4a10-bf11-b6971967697e')\"\n",
              "            title=\"Suggest charts\"\n",
              "            style=\"display:none;\">\n",
              "\n",
              "<svg xmlns=\"http://www.w3.org/2000/svg\" height=\"24px\"viewBox=\"0 0 24 24\"\n",
              "     width=\"24px\">\n",
              "    <g>\n",
              "        <path d=\"M19 3H5c-1.1 0-2 .9-2 2v14c0 1.1.9 2 2 2h14c1.1 0 2-.9 2-2V5c0-1.1-.9-2-2-2zM9 17H7v-7h2v7zm4 0h-2V7h2v10zm4 0h-2v-4h2v4z\"/>\n",
              "    </g>\n",
              "</svg>\n",
              "  </button>\n",
              "\n",
              "<style>\n",
              "  .colab-df-quickchart {\n",
              "      --bg-color: #E8F0FE;\n",
              "      --fill-color: #1967D2;\n",
              "      --hover-bg-color: #E2EBFA;\n",
              "      --hover-fill-color: #174EA6;\n",
              "      --disabled-fill-color: #AAA;\n",
              "      --disabled-bg-color: #DDD;\n",
              "  }\n",
              "\n",
              "  [theme=dark] .colab-df-quickchart {\n",
              "      --bg-color: #3B4455;\n",
              "      --fill-color: #D2E3FC;\n",
              "      --hover-bg-color: #434B5C;\n",
              "      --hover-fill-color: #FFFFFF;\n",
              "      --disabled-bg-color: #3B4455;\n",
              "      --disabled-fill-color: #666;\n",
              "  }\n",
              "\n",
              "  .colab-df-quickchart {\n",
              "    background-color: var(--bg-color);\n",
              "    border: none;\n",
              "    border-radius: 50%;\n",
              "    cursor: pointer;\n",
              "    display: none;\n",
              "    fill: var(--fill-color);\n",
              "    height: 32px;\n",
              "    padding: 0;\n",
              "    width: 32px;\n",
              "  }\n",
              "\n",
              "  .colab-df-quickchart:hover {\n",
              "    background-color: var(--hover-bg-color);\n",
              "    box-shadow: 0 1px 2px rgba(60, 64, 67, 0.3), 0 1px 3px 1px rgba(60, 64, 67, 0.15);\n",
              "    fill: var(--button-hover-fill-color);\n",
              "  }\n",
              "\n",
              "  .colab-df-quickchart-complete:disabled,\n",
              "  .colab-df-quickchart-complete:disabled:hover {\n",
              "    background-color: var(--disabled-bg-color);\n",
              "    fill: var(--disabled-fill-color);\n",
              "    box-shadow: none;\n",
              "  }\n",
              "\n",
              "  .colab-df-spinner {\n",
              "    border: 2px solid var(--fill-color);\n",
              "    border-color: transparent;\n",
              "    border-bottom-color: var(--fill-color);\n",
              "    animation:\n",
              "      spin 1s steps(1) infinite;\n",
              "  }\n",
              "\n",
              "  @keyframes spin {\n",
              "    0% {\n",
              "      border-color: transparent;\n",
              "      border-bottom-color: var(--fill-color);\n",
              "      border-left-color: var(--fill-color);\n",
              "    }\n",
              "    20% {\n",
              "      border-color: transparent;\n",
              "      border-left-color: var(--fill-color);\n",
              "      border-top-color: var(--fill-color);\n",
              "    }\n",
              "    30% {\n",
              "      border-color: transparent;\n",
              "      border-left-color: var(--fill-color);\n",
              "      border-top-color: var(--fill-color);\n",
              "      border-right-color: var(--fill-color);\n",
              "    }\n",
              "    40% {\n",
              "      border-color: transparent;\n",
              "      border-right-color: var(--fill-color);\n",
              "      border-top-color: var(--fill-color);\n",
              "    }\n",
              "    60% {\n",
              "      border-color: transparent;\n",
              "      border-right-color: var(--fill-color);\n",
              "    }\n",
              "    80% {\n",
              "      border-color: transparent;\n",
              "      border-right-color: var(--fill-color);\n",
              "      border-bottom-color: var(--fill-color);\n",
              "    }\n",
              "    90% {\n",
              "      border-color: transparent;\n",
              "      border-bottom-color: var(--fill-color);\n",
              "    }\n",
              "  }\n",
              "</style>\n",
              "\n",
              "  <script>\n",
              "    async function quickchart(key) {\n",
              "      const quickchartButtonEl =\n",
              "        document.querySelector('#' + key + ' button');\n",
              "      quickchartButtonEl.disabled = true;  // To prevent multiple clicks.\n",
              "      quickchartButtonEl.classList.add('colab-df-spinner');\n",
              "      try {\n",
              "        const charts = await google.colab.kernel.invokeFunction(\n",
              "            'suggestCharts', [key], {});\n",
              "      } catch (error) {\n",
              "        console.error('Error during call to suggestCharts:', error);\n",
              "      }\n",
              "      quickchartButtonEl.classList.remove('colab-df-spinner');\n",
              "      quickchartButtonEl.classList.add('colab-df-quickchart-complete');\n",
              "    }\n",
              "    (() => {\n",
              "      let quickchartButtonEl =\n",
              "        document.querySelector('#df-15965086-3a9a-4a10-bf11-b6971967697e button');\n",
              "      quickchartButtonEl.style.display =\n",
              "        google.colab.kernel.accessAllowed ? 'block' : 'none';\n",
              "    })();\n",
              "  </script>\n",
              "</div>\n",
              "\n",
              "  <div id=\"id_dbf6e1f8-24b3-4180-8115-1a358f14ab37\">\n",
              "    <style>\n",
              "      .colab-df-generate {\n",
              "        background-color: #E8F0FE;\n",
              "        border: none;\n",
              "        border-radius: 50%;\n",
              "        cursor: pointer;\n",
              "        display: none;\n",
              "        fill: #1967D2;\n",
              "        height: 32px;\n",
              "        padding: 0 0 0 0;\n",
              "        width: 32px;\n",
              "      }\n",
              "\n",
              "      .colab-df-generate:hover {\n",
              "        background-color: #E2EBFA;\n",
              "        box-shadow: 0px 1px 2px rgba(60, 64, 67, 0.3), 0px 1px 3px 1px rgba(60, 64, 67, 0.15);\n",
              "        fill: #174EA6;\n",
              "      }\n",
              "\n",
              "      [theme=dark] .colab-df-generate {\n",
              "        background-color: #3B4455;\n",
              "        fill: #D2E3FC;\n",
              "      }\n",
              "\n",
              "      [theme=dark] .colab-df-generate:hover {\n",
              "        background-color: #434B5C;\n",
              "        box-shadow: 0px 1px 3px 1px rgba(0, 0, 0, 0.15);\n",
              "        filter: drop-shadow(0px 1px 2px rgba(0, 0, 0, 0.3));\n",
              "        fill: #FFFFFF;\n",
              "      }\n",
              "    </style>\n",
              "    <button class=\"colab-df-generate\" onclick=\"generateWithVariable('data2')\"\n",
              "            title=\"Generate code using this dataframe.\"\n",
              "            style=\"display:none;\">\n",
              "\n",
              "  <svg xmlns=\"http://www.w3.org/2000/svg\" height=\"24px\"viewBox=\"0 0 24 24\"\n",
              "       width=\"24px\">\n",
              "    <path d=\"M7,19H8.4L18.45,9,17,7.55,7,17.6ZM5,21V16.75L18.45,3.32a2,2,0,0,1,2.83,0l1.4,1.43a1.91,1.91,0,0,1,.58,1.4,1.91,1.91,0,0,1-.58,1.4L9.25,21ZM18.45,9,17,7.55Zm-12,3A5.31,5.31,0,0,0,4.9,8.1,5.31,5.31,0,0,0,1,6.5,5.31,5.31,0,0,0,4.9,4.9,5.31,5.31,0,0,0,6.5,1,5.31,5.31,0,0,0,8.1,4.9,5.31,5.31,0,0,0,12,6.5,5.46,5.46,0,0,0,6.5,12Z\"/>\n",
              "  </svg>\n",
              "    </button>\n",
              "    <script>\n",
              "      (() => {\n",
              "      const buttonEl =\n",
              "        document.querySelector('#id_dbf6e1f8-24b3-4180-8115-1a358f14ab37 button.colab-df-generate');\n",
              "      buttonEl.style.display =\n",
              "        google.colab.kernel.accessAllowed ? 'block' : 'none';\n",
              "\n",
              "      buttonEl.onclick = () => {\n",
              "        google.colab.notebook.generateWithVariable('data2');\n",
              "      }\n",
              "      })();\n",
              "    </script>\n",
              "  </div>\n",
              "\n",
              "    </div>\n",
              "  </div>\n"
            ],
            "application/vnd.google.colaboratory.intrinsic+json": {
              "type": "dataframe",
              "variable_name": "data2",
              "summary": "{\n  \"name\": \"data2\",\n  \"rows\": 94,\n  \"fields\": [\n    {\n      \"column\": \"rocket\",\n      \"properties\": {\n        \"dtype\": \"category\",\n        \"num_unique_values\": 2,\n        \"samples\": [\n          \"5e9d0d95eda69973a809d1ec\",\n          \"5e9d0d95eda69955f709d1eb\"\n        ],\n        \"semantic_type\": \"\",\n        \"description\": \"\"\n      }\n    },\n    {\n      \"column\": \"payloads\",\n      \"properties\": {\n        \"dtype\": \"string\",\n        \"num_unique_values\": 94,\n        \"samples\": [\n          \"5eb0e4c4b6c3bb0006eeb213\",\n          \"5eb0e4beb6c3bb0006eeb1ff\"\n        ],\n        \"semantic_type\": \"\",\n        \"description\": \"\"\n      }\n    },\n    {\n      \"column\": \"launchpad\",\n      \"properties\": {\n        \"dtype\": \"category\",\n        \"num_unique_values\": 4,\n        \"samples\": [\n          \"5e9e4501f509094ba4566f84\",\n          \"5e9e4502f509094188566f88\"\n        ],\n        \"semantic_type\": \"\",\n        \"description\": \"\"\n      }\n    },\n    {\n      \"column\": \"cores\",\n      \"properties\": {\n        \"dtype\": \"object\",\n        \"semantic_type\": \"\",\n        \"description\": \"\"\n      }\n    },\n    {\n      \"column\": \"flight_number\",\n      \"properties\": {\n        \"dtype\": \"number\",\n        \"std\": 30,\n        \"min\": 1,\n        \"max\": 106,\n        \"num_unique_values\": 94,\n        \"samples\": [\n          46,\n          27\n        ],\n        \"semantic_type\": \"\",\n        \"description\": \"\"\n      }\n    },\n    {\n      \"column\": \"date_utc\",\n      \"properties\": {\n        \"dtype\": \"object\",\n        \"num_unique_values\": 94,\n        \"samples\": [\n          \"2017-08-24T18:50:00.000Z\",\n          \"2016-03-04T23:35:00.000Z\"\n        ],\n        \"semantic_type\": \"\",\n        \"description\": \"\"\n      }\n    },\n    {\n      \"column\": \"success\",\n      \"properties\": {\n        \"dtype\": \"boolean\",\n        \"num_unique_values\": 2,\n        \"samples\": [\n          true,\n          false\n        ],\n        \"semantic_type\": \"\",\n        \"description\": \"\"\n      }\n    },\n    {\n      \"column\": \"date\",\n      \"properties\": {\n        \"dtype\": \"date\",\n        \"min\": \"2006-03-24\",\n        \"max\": \"2020-11-05\",\n        \"num_unique_values\": 94,\n        \"samples\": [\n          \"2017-08-24\",\n          \"2016-03-04\"\n        ],\n        \"semantic_type\": \"\",\n        \"description\": \"\"\n      }\n    },\n    {\n      \"column\": \"time\",\n      \"properties\": {\n        \"dtype\": \"string\",\n        \"num_unique_values\": 88,\n        \"samples\": [\n          \"19:30:00\",\n          \"22:30:00\"\n        ],\n        \"semantic_type\": \"\",\n        \"description\": \"\"\n      }\n    }\n  ]\n}"
            }
          },
          "metadata": {},
          "execution_count": 206
        }
      ]
    },
    {
      "cell_type": "code",
      "source": [
        "data2.info()"
      ],
      "metadata": {
        "colab": {
          "base_uri": "https://localhost:8080/"
        },
        "id": "ao1a4el2ZMjf",
        "outputId": "6c56995f-4f57-4936-f490-f2b4881b0522"
      },
      "execution_count": null,
      "outputs": [
        {
          "output_type": "stream",
          "name": "stdout",
          "text": [
            "<class 'pandas.core.frame.DataFrame'>\n",
            "RangeIndex: 94 entries, 0 to 93\n",
            "Data columns (total 9 columns):\n",
            " #   Column         Non-Null Count  Dtype \n",
            "---  ------         --------------  ----- \n",
            " 0   rocket         94 non-null     object\n",
            " 1   payloads       94 non-null     object\n",
            " 2   launchpad      94 non-null     object\n",
            " 3   cores          94 non-null     object\n",
            " 4   flight_number  94 non-null     int64 \n",
            " 5   date_utc       94 non-null     object\n",
            " 6   success        94 non-null     bool  \n",
            " 7   date           94 non-null     object\n",
            " 8   time           94 non-null     object\n",
            "dtypes: bool(1), int64(1), object(7)\n",
            "memory usage: 6.1+ KB\n"
          ]
        }
      ]
    },
    {
      "cell_type": "code",
      "source": [
        "#Task2:Filter the dataframe to only include Falcon 9 launches"
      ],
      "metadata": {
        "id": "B1EcZHVmJAw6"
      },
      "execution_count": null,
      "outputs": []
    },
    {
      "cell_type": "code",
      "source": [
        "def ensure_equal_length(df,desired_lenght=94):\n",
        "  launch_dict={col:list(df[col])\n",
        "  for col in df.columns}\n",
        "  for key in launch_dict:\n",
        "         current_length=len(launch_dict[key])\n",
        "         if current_length < desired_lenght:\n",
        "              launch_dict[key]=launch_dict[key]+[None]*(desired_lenght-current_length) # Fixed typo: current_lenghth -> current_length\n",
        "         elif current_length>desired_lenght: # Fixed indentation\n",
        "              launch_dict[key]=launch_dict[key][:desired_lenght] # Trim list if it is too long\n",
        "  return pd.DataFrame(launch_dict)\n",
        "\n",
        "# Apply the function to your DataFrame 'data' (assuming it exists)\n",
        "data2 = ensure_equal_length(data)\n",
        "\n",
        "#Check if 'BoosterVersion' is in the columns of data2\n",
        "if 'BoosterVersion' in data2.columns:\n",
        "    data_falcon9=data2[data2['BoosterVersion']!='Falcon 1']\n",
        "    data_falcon9.head()\n",
        "else:\n",
        "    print(\"Error: 'BoosterVersion' column not found in the DataFrame.\")\n",
        "    # Investigate why the column is missing and fix the issue in the data processing steps."
      ],
      "metadata": {
        "colab": {
          "base_uri": "https://localhost:8080/"
        },
        "id": "BPwfd2qUb6d3",
        "outputId": "3cf2e631-9364-4f58-e28a-c9a42e6b8c33"
      },
      "execution_count": null,
      "outputs": [
        {
          "output_type": "stream",
          "name": "stdout",
          "text": [
            "Error: 'BoosterVersion' column not found in the DataFrame.\n"
          ]
        }
      ]
    },
    {
      "cell_type": "code",
      "source": [
        "data_falcon9=data2[data2['BoosterVersion']!='Falcon 1']\n",
        "data_falcon9.head()"
      ],
      "metadata": {
        "id": "uXyNeo70Jj3C",
        "colab": {
          "base_uri": "https://localhost:8080/",
          "height": 499
        },
        "outputId": "2ec7b3c2-05f8-45a5-8bc1-805028a6a57e"
      },
      "execution_count": null,
      "outputs": [
        {
          "output_type": "error",
          "ename": "KeyError",
          "evalue": "'BoosterVersion'",
          "traceback": [
            "\u001b[0;31m---------------------------------------------------------------------------\u001b[0m",
            "\u001b[0;31mKeyError\u001b[0m                                  Traceback (most recent call last)",
            "\u001b[0;32m/usr/local/lib/python3.10/dist-packages/pandas/core/indexes/base.py\u001b[0m in \u001b[0;36mget_loc\u001b[0;34m(self, key)\u001b[0m\n\u001b[1;32m   3652\u001b[0m         \u001b[0;32mtry\u001b[0m\u001b[0;34m:\u001b[0m\u001b[0;34m\u001b[0m\u001b[0;34m\u001b[0m\u001b[0m\n\u001b[0;32m-> 3653\u001b[0;31m             \u001b[0;32mreturn\u001b[0m \u001b[0mself\u001b[0m\u001b[0;34m.\u001b[0m\u001b[0m_engine\u001b[0m\u001b[0;34m.\u001b[0m\u001b[0mget_loc\u001b[0m\u001b[0;34m(\u001b[0m\u001b[0mcasted_key\u001b[0m\u001b[0;34m)\u001b[0m\u001b[0;34m\u001b[0m\u001b[0;34m\u001b[0m\u001b[0m\n\u001b[0m\u001b[1;32m   3654\u001b[0m         \u001b[0;32mexcept\u001b[0m \u001b[0mKeyError\u001b[0m \u001b[0;32mas\u001b[0m \u001b[0merr\u001b[0m\u001b[0;34m:\u001b[0m\u001b[0;34m\u001b[0m\u001b[0;34m\u001b[0m\u001b[0m\n",
            "\u001b[0;32m/usr/local/lib/python3.10/dist-packages/pandas/_libs/index.pyx\u001b[0m in \u001b[0;36mpandas._libs.index.IndexEngine.get_loc\u001b[0;34m()\u001b[0m\n",
            "\u001b[0;32m/usr/local/lib/python3.10/dist-packages/pandas/_libs/index.pyx\u001b[0m in \u001b[0;36mpandas._libs.index.IndexEngine.get_loc\u001b[0;34m()\u001b[0m\n",
            "\u001b[0;32mpandas/_libs/hashtable_class_helper.pxi\u001b[0m in \u001b[0;36mpandas._libs.hashtable.PyObjectHashTable.get_item\u001b[0;34m()\u001b[0m\n",
            "\u001b[0;32mpandas/_libs/hashtable_class_helper.pxi\u001b[0m in \u001b[0;36mpandas._libs.hashtable.PyObjectHashTable.get_item\u001b[0;34m()\u001b[0m\n",
            "\u001b[0;31mKeyError\u001b[0m: 'BoosterVersion'",
            "\nThe above exception was the direct cause of the following exception:\n",
            "\u001b[0;31mKeyError\u001b[0m                                  Traceback (most recent call last)",
            "\u001b[0;32m<ipython-input-208-7218de3b7c6d>\u001b[0m in \u001b[0;36m<cell line: 1>\u001b[0;34m()\u001b[0m\n\u001b[0;32m----> 1\u001b[0;31m \u001b[0mdata_falcon9\u001b[0m\u001b[0;34m=\u001b[0m\u001b[0mdata2\u001b[0m\u001b[0;34m[\u001b[0m\u001b[0mdata2\u001b[0m\u001b[0;34m[\u001b[0m\u001b[0;34m'BoosterVersion'\u001b[0m\u001b[0;34m]\u001b[0m\u001b[0;34m!=\u001b[0m\u001b[0;34m'Falcon 1'\u001b[0m\u001b[0;34m]\u001b[0m\u001b[0;34m\u001b[0m\u001b[0;34m\u001b[0m\u001b[0m\n\u001b[0m\u001b[1;32m      2\u001b[0m \u001b[0mdata_falcon9\u001b[0m\u001b[0;34m.\u001b[0m\u001b[0mhead\u001b[0m\u001b[0;34m(\u001b[0m\u001b[0;34m)\u001b[0m\u001b[0;34m\u001b[0m\u001b[0;34m\u001b[0m\u001b[0m\n",
            "\u001b[0;32m/usr/local/lib/python3.10/dist-packages/pandas/core/frame.py\u001b[0m in \u001b[0;36m__getitem__\u001b[0;34m(self, key)\u001b[0m\n\u001b[1;32m   3759\u001b[0m             \u001b[0;32mif\u001b[0m \u001b[0mself\u001b[0m\u001b[0;34m.\u001b[0m\u001b[0mcolumns\u001b[0m\u001b[0;34m.\u001b[0m\u001b[0mnlevels\u001b[0m \u001b[0;34m>\u001b[0m \u001b[0;36m1\u001b[0m\u001b[0;34m:\u001b[0m\u001b[0;34m\u001b[0m\u001b[0;34m\u001b[0m\u001b[0m\n\u001b[1;32m   3760\u001b[0m                 \u001b[0;32mreturn\u001b[0m \u001b[0mself\u001b[0m\u001b[0;34m.\u001b[0m\u001b[0m_getitem_multilevel\u001b[0m\u001b[0;34m(\u001b[0m\u001b[0mkey\u001b[0m\u001b[0;34m)\u001b[0m\u001b[0;34m\u001b[0m\u001b[0;34m\u001b[0m\u001b[0m\n\u001b[0;32m-> 3761\u001b[0;31m             \u001b[0mindexer\u001b[0m \u001b[0;34m=\u001b[0m \u001b[0mself\u001b[0m\u001b[0;34m.\u001b[0m\u001b[0mcolumns\u001b[0m\u001b[0;34m.\u001b[0m\u001b[0mget_loc\u001b[0m\u001b[0;34m(\u001b[0m\u001b[0mkey\u001b[0m\u001b[0;34m)\u001b[0m\u001b[0;34m\u001b[0m\u001b[0;34m\u001b[0m\u001b[0m\n\u001b[0m\u001b[1;32m   3762\u001b[0m             \u001b[0;32mif\u001b[0m \u001b[0mis_integer\u001b[0m\u001b[0;34m(\u001b[0m\u001b[0mindexer\u001b[0m\u001b[0;34m)\u001b[0m\u001b[0;34m:\u001b[0m\u001b[0;34m\u001b[0m\u001b[0;34m\u001b[0m\u001b[0m\n\u001b[1;32m   3763\u001b[0m                 \u001b[0mindexer\u001b[0m \u001b[0;34m=\u001b[0m \u001b[0;34m[\u001b[0m\u001b[0mindexer\u001b[0m\u001b[0;34m]\u001b[0m\u001b[0;34m\u001b[0m\u001b[0;34m\u001b[0m\u001b[0m\n",
            "\u001b[0;32m/usr/local/lib/python3.10/dist-packages/pandas/core/indexes/base.py\u001b[0m in \u001b[0;36mget_loc\u001b[0;34m(self, key)\u001b[0m\n\u001b[1;32m   3653\u001b[0m             \u001b[0;32mreturn\u001b[0m \u001b[0mself\u001b[0m\u001b[0;34m.\u001b[0m\u001b[0m_engine\u001b[0m\u001b[0;34m.\u001b[0m\u001b[0mget_loc\u001b[0m\u001b[0;34m(\u001b[0m\u001b[0mcasted_key\u001b[0m\u001b[0;34m)\u001b[0m\u001b[0;34m\u001b[0m\u001b[0;34m\u001b[0m\u001b[0m\n\u001b[1;32m   3654\u001b[0m         \u001b[0;32mexcept\u001b[0m \u001b[0mKeyError\u001b[0m \u001b[0;32mas\u001b[0m \u001b[0merr\u001b[0m\u001b[0;34m:\u001b[0m\u001b[0;34m\u001b[0m\u001b[0;34m\u001b[0m\u001b[0m\n\u001b[0;32m-> 3655\u001b[0;31m             \u001b[0;32mraise\u001b[0m \u001b[0mKeyError\u001b[0m\u001b[0;34m(\u001b[0m\u001b[0mkey\u001b[0m\u001b[0;34m)\u001b[0m \u001b[0;32mfrom\u001b[0m \u001b[0merr\u001b[0m\u001b[0;34m\u001b[0m\u001b[0;34m\u001b[0m\u001b[0m\n\u001b[0m\u001b[1;32m   3656\u001b[0m         \u001b[0;32mexcept\u001b[0m \u001b[0mTypeError\u001b[0m\u001b[0;34m:\u001b[0m\u001b[0;34m\u001b[0m\u001b[0;34m\u001b[0m\u001b[0m\n\u001b[1;32m   3657\u001b[0m             \u001b[0;31m# If we have a listlike key, _check_indexing_error will raise\u001b[0m\u001b[0;34m\u001b[0m\u001b[0;34m\u001b[0m\u001b[0m\n",
            "\u001b[0;31mKeyError\u001b[0m: 'BoosterVersion'"
          ]
        }
      ]
    },
    {
      "cell_type": "code",
      "source": [
        "data_falcon9.to_csv('data_falcon9_week01.csv',index=False)"
      ],
      "metadata": {
        "colab": {
          "base_uri": "https://localhost:8080/",
          "height": 146
        },
        "id": "-GmZsTvhKJtS",
        "outputId": "67e5d375-321c-4a44-c064-8187ce6ae459"
      },
      "execution_count": null,
      "outputs": [
        {
          "output_type": "error",
          "ename": "NameError",
          "evalue": "name 'data_falcon9' is not defined",
          "traceback": [
            "\u001b[0;31m---------------------------------------------------------------------------\u001b[0m",
            "\u001b[0;31mNameError\u001b[0m                                 Traceback (most recent call last)",
            "\u001b[0;32m<ipython-input-211-fcaedd61855e>\u001b[0m in \u001b[0;36m<cell line: 1>\u001b[0;34m()\u001b[0m\n\u001b[0;32m----> 1\u001b[0;31m \u001b[0mdata_falcon9\u001b[0m\u001b[0;34m.\u001b[0m\u001b[0mto_csv\u001b[0m\u001b[0;34m(\u001b[0m\u001b[0;34m'data_falcon9_week01.csv'\u001b[0m\u001b[0;34m,\u001b[0m\u001b[0mindex\u001b[0m\u001b[0;34m=\u001b[0m\u001b[0;32mFalse\u001b[0m\u001b[0;34m)\u001b[0m\u001b[0;34m\u001b[0m\u001b[0;34m\u001b[0m\u001b[0m\n\u001b[0m",
            "\u001b[0;31mNameError\u001b[0m: name 'data_falcon9' is not defined"
          ]
        }
      ]
    },
    {
      "cell_type": "code",
      "source": [],
      "metadata": {
        "id": "Y6go4wklJjPp"
      },
      "execution_count": null,
      "outputs": []
    }
  ]
}